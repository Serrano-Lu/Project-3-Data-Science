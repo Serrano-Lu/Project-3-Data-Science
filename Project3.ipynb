{
 "cells": [
  {
   "cell_type": "markdown",
   "id": "84639057",
   "metadata": {},
   "source": [
    "# Sentiment Analysis of Reviews  \n",
    "**Name**: Fernando  \n",
    "**Date**: 11/25/2024  \n",
    "\n",
    "## Problem Description  \n",
    "This project analyzes user reviews fetched from an API to uncover sentiment trends.  \n",
    "The goal is to categorize reviews as positive, neutral, or negative and visualize key insights.\n",
    "\n",
    "## Solution Summary  \n",
    "We use Python libraries such as TextBlob and NLTK for sentiment classification, data cleaning, and visualization."
   ]
  },
  {
   "cell_type": "code",
   "execution_count": 1,
   "id": "7db4ba03",
   "metadata": {},
   "outputs": [
    {
     "name": "stdout",
     "output_type": "stream",
     "text": [
      "Total reviews fetched: 99\n",
      "Sample Reviews: ['The Martix is a great example of a movie that will live for ever or a very log time. The story and concept are out of this world. Keanu Reeves plays his role with utter brilliance, the cast was very well put together and the graphics are still to this day amazing. All in all one of the best movies of all time.', 'Get this: what if all we know as reality was, in fact, virtual reality? Reality itself is a ravaged dystopia run by technocrat Artificial Intelligence where humankind vegetates in billions of gloop-filled tanks - mere battery packs for the machineworld - being fed this late \\'90s VR (known as The Matrix - you with us here?) through an ugly great cable stuck in the back of our heads. And what if there was a group of quasi-spiritual rebels infiltrating The Matrix with the sole purpose of crashing the ruddy great mainframe and rescuing humans from their unknown purgatory? And, hey, what if Keanu Reeves was their Messiah?\\r\\n\\r\\nWhat sounds like some web freak\\'s wet dream is, in fact, a dazzlingly nifty slice of sci-fi cool. The Wachowski Brothers (Andy and Larry - last seen dabbling in kinky lesbian noir with the excellent Bound) pulling off something like a million masterstrokes all at once. Taking the imprimatur of the video game, they meld the grungy noir of Blade Runner, the hyperkinetic energies of chopsocky, John Woo hardware and grandiose spiritual overtones into William Gibson\\'s cyberpunk ethos to produce a new aesthetic for the millennium powered to the thudding beat of techno. And it is just incredible fun. The key is the technique of \"flo-mo\", a process born from Japanese animation, whereby an object in motion is seemingly frozen while the camera miraculously spins around it as if time and gravity are on hold. It grants the action (including some killer kung fu which Reeves and crew spent months perfecting) liberty to take on surreal visual highs. Superhuman feats permissible, of course, in the context of VR as the rebels download Herculean \"talents\" to fuel their subterfuge. Meanwhile, the audience can only gawp longingly, with its jaws thunking to the cinema floor in unison, as the heroes wrapped in skintight leather, sleek shades and designer cheekbones, spin up walls, leap from high rises and slip through streams of bullets in silken slo-mo. Tron this ain\\'t.\\r\\n\\r\\nImmediately reigniting the moribund cyberpunk genre (the kids can\\'t get enough Stateside), this has thrust Reeves from his imploding career back to Speed highs (and laying to rest the hideous ghost of Johnny Mnemonic) and stolen much more of Star Wars\\' thunder than was thought humanly possible. For all its loony plot, The Matrix is fabulous.\\r\\n\\r\\nSure, the expert Fishburne is depended upon to expound the lion\\'s share of the script as seer-like rebel leader Morpheus. Reeves, stunning in his newcast slenderness, as Thomas \"Neo\" Anderson, the hacker turned hope for all mankind (care of some ill-defined mystical calling) is asked little more than perpetual befuddlement. Like Speed, though, this movie plays on his iconic looks rather than his oak-like emoting. There\\'s a major find, too, in the irresistible Carrie-Anne Moss, a majestically wrought combination of steely no-shit intelligence and rock-chick vivaciousness as fellow tripper Trinity. And Weaving, cast against type, neutralises his Aussie tones to a freaky deadpan, the head of the MiB-styled defence system set against the Goth invaders.\\r\\n\\r\\nAnd sure, three minutes of post-movie deliberation and all this state-of-the-art cyberdevilry is reduced to the purest gobbledygook. That, though, is not the point. The Matrix is about pure experience; it\\'s been many a moon since the Empire crew have spilled out of a cinema literally buzzing with the sensation of a movie, babbling frenetically with the sheer excitement of discovery.\\r\\n\\r\\nFrom head to tail, the deliciously inventive Wachowskis (watch them skyrocket) have delivered the syntax for a new kind of movie: technically mind-blowing, style merged perfectly with content and just so damn cool, the usher will have to drag you kicking and screaming back into reality. You can bet your bottom dollar George never saw this phantom menace coming.\\r\\n\\r\\n\\r\\nVerdict - The deliciously inventive Wachowskis have delivered the syntax for a new kind of movie: technically mind-blowing, style merged perfectly with content and just so damn cool.\\r\\n\\r\\n5/5\\r\\n\\r\\n- Ian Nathan, Empire Magazine', \"It was around 2001 that I first watched this film and recently giving it another go, ever since, doesn't change the fact for me that this movie is an timeless piece of filmaking. From the characters to the striking and thought-provoking story, it basically has everything to make an action film a 10/10 in a book.\", \"Finally got to see this on the big screen thanks to the TIFF Bell Lightbox in glorious 35mm. My reaction: whoa!\\r\\n\\r\\nOn top of that, I was able to participate in a round table discussion over the film's technical innovations, thematic philosophies, religious metaphors, undertones of gender politics, and absolute ass-kicking action. Can a movie be any more perfect?\", '***Brainy, entertaining and iconic, but too cool***\\r\\n\\r\\nWhen a Big City computer hacker (Keanu Reeves) feels something is intrinsically wrong with reality, a woman with superhuman abilities (Carrie-Anne Moss) informs him that a mysterious man named Morpheus has the answers (Laurence Fishburne). But he has to escape the “agents” who are pursuing him (e.g. Hugo Weaving) to get to Morpheus. At which point his world is turned upside down and inside out. Marcus Chong and Joe Pantoliano are also on hand.\\r\\n\\r\\n\"The Matrix\" (1999) is a cerebral sci-fi/action film that mixes elements of the first two Terminator flicks (1984/1991) with martial arts action and a basic concept that hails back to “Star Trek: The Motion Picture” (1979) and no doubt further.\\r\\n\\r\\nTo put this intricate movie together and make it entertaining took genius, so I give credit to the Waschowski Brothers, um, I mean sisters (rolling my eyes). The casting is great and Carrie-Anne is stunning throughout (I usually don’t like short hair on women, but she’s an exception). For me, though, the Waschowskis made it too comic booky. The posturing characters in their slick black outfits & sunglasses scream “Yeah, right.” And the Messiah angle is old hat.\\r\\n\\r\\nThe film runs 2 hours, 16 minutes, and was shot in Sydney, Australia, with some exterior scenes done in Nashville and San Francisco.\\r\\n\\r\\nGRADE: B']\n"
     ]
    }
   ],
   "source": [
    "import requests\n",
    "\n",
    "# Example movie IDs (popular movies)\n",
    "movie_ids = [603, 550, 24428, 157336, 284054]  # The Matrix, Fight Club, Avengers, Interstellar, Black Panther\n",
    "all_reviews = []\n",
    "\n",
    "# Fetch reviews for multiple movies with pagination\n",
    "for movie_id in movie_ids:\n",
    "    page = 1\n",
    "    while True:\n",
    "        url = f\"https://api.themoviedb.org/3/movie/{movie_id}/reviews\"\n",
    "        params = {\"api_key\": \"fb9b90f43c7a8bab2d0b318810fc4107\", \"page\": page}\n",
    "        response = requests.get(url, params=params)\n",
    "        \n",
    "        if response.status_code == 200:\n",
    "            data = response.json()\n",
    "            reviews = [review[\"content\"] for review in data[\"results\"]]\n",
    "            all_reviews.extend(reviews)\n",
    "            if page >= data[\"total_pages\"]:\n",
    "                break  # No more pages to fetch\n",
    "            page += 1\n",
    "        else:\n",
    "            print(f\"API Error for movie ID {movie_id}: {response.status_code}\")\n",
    "            break\n",
    "\n",
    "print(f\"Total reviews fetched: {len(all_reviews)}\")\n",
    "print(f\"Sample Reviews: {all_reviews[:5]}\")"
   ]
  },
  {
   "cell_type": "code",
   "execution_count": 4,
   "id": "077e6442",
   "metadata": {},
   "outputs": [
    {
     "name": "stdout",
     "output_type": "stream",
     "text": [
      "Sample Cleaned Reviews:\n",
      "['the martix is a great example of a movie that will live for ever or a very log time the story and concept are out of this world keanu reeves plays his role with utter brilliance the cast was very well put together and the graphics are still to this day amazing all in all one of the best movies of all time', 'get this what if all we know as reality was in fact virtual reality reality itself is a ravaged dystopia run by technocrat artificial intelligence where humankind vegetates in billions of gloopfilled tanks mere battery packs for the machineworld being fed this late s vr known as the matrix you with us here through an ugly great cable stuck in the back of our heads and what if there was a group of quasispiritual rebels infiltrating the matrix with the sole purpose of crashing the ruddy great mainframe and rescuing humans from their unknown purgatory and hey what if keanu reeves was their messiah what sounds like some web freaks wet dream is in fact a dazzlingly nifty slice of scifi cool the wachowski brothers andy and larry last seen dabbling in kinky lesbian noir with the excellent bound pulling off something like a million masterstrokes all at once taking the imprimatur of the video game they meld the grungy noir of blade runner the hyperkinetic energies of chopsocky john woo hardware and grandiose spiritual overtones into william gibsons cyberpunk ethos to produce a new aesthetic for the millennium powered to the thudding beat of techno and it is just incredible fun the key is the technique of flomo a process born from japanese animation whereby an object in motion is seemingly frozen while the camera miraculously spins around it as if time and gravity are on hold it grants the action including some killer kung fu which reeves and crew spent months perfecting liberty to take on surreal visual highs superhuman feats permissible of course in the context of vr as the rebels download herculean talents to fuel their subterfuge meanwhile the audience can only gawp longingly with its jaws thunking to the cinema floor in unison as the heroes wrapped in skintight leather sleek shades and designer cheekbones spin up walls leap from high rises and slip through streams of bullets in silken slomo tron this aint immediately reigniting the moribund cyberpunk genre the kids cant get enough stateside this has thrust reeves from his imploding career back to speed highs and laying to rest the hideous ghost of johnny mnemonic and stolen much more of star wars thunder than was thought humanly possible for all its loony plot the matrix is fabulous sure the expert fishburne is depended upon to expound the lions share of the script as seerlike rebel leader morpheus reeves stunning in his newcast slenderness as thomas neo anderson the hacker turned hope for all mankind care of some illdefined mystical calling is asked little more than perpetual befuddlement like speed though this movie plays on his iconic looks rather than his oaklike emoting theres a major find too in the irresistible carrieanne moss a majestically wrought combination of steely noshit intelligence and rockchick vivaciousness as fellow tripper trinity and weaving cast against type neutralises his aussie tones to a freaky deadpan the head of the mibstyled defence system set against the goth invaders and sure three minutes of postmovie deliberation and all this stateoftheart cyberdevilry is reduced to the purest gobbledygook that though is not the point the matrix is about pure experience its been many a moon since the empire crew have spilled out of a cinema literally buzzing with the sensation of a movie babbling frenetically with the sheer excitement of discovery from head to tail the deliciously inventive wachowskis watch them skyrocket have delivered the syntax for a new kind of movie technically mindblowing style merged perfectly with content and just so damn cool the usher will have to drag you kicking and screaming back into reality you can bet your bottom dollar george never saw this phantom menace coming verdict the deliciously inventive wachowskis have delivered the syntax for a new kind of movie technically mindblowing style merged perfectly with content and just so damn cool ian nathan empire magazine', 'it was around that i first watched this film and recently giving it another go ever since doesnt change the fact for me that this movie is an timeless piece of filmaking from the characters to the striking and thoughtprovoking story it basically has everything to make an action film a in a book', 'finally got to see this on the big screen thanks to the tiff bell lightbox in glorious mm my reaction whoa on top of that i was able to participate in a round table discussion over the films technical innovations thematic philosophies religious metaphors undertones of gender politics and absolute asskicking action can a movie be any more perfect', 'brainy entertaining and iconic but too cool when a big city computer hacker keanu reeves feels something is intrinsically wrong with reality a woman with superhuman abilities carrieanne moss informs him that a mysterious man named morpheus has the answers laurence fishburne but he has to escape the agents who are pursuing him eg hugo weaving to get to morpheus at which point his world is turned upside down and inside out marcus chong and joe pantoliano are also on hand the matrix is a cerebral scifiaction film that mixes elements of the first two terminator flicks with martial arts action and a basic concept that hails back to star trek the motion picture and no doubt further to put this intricate movie together and make it entertaining took genius so i give credit to the waschowski brothers um i mean sisters rolling my eyes the casting is great and carrieanne is stunning throughout i usually dont like short hair on women but shes an exception for me though the waschowskis made it too comic booky the posturing characters in their slick black outfits sunglasses scream yeah right and the messiah angle is old hat the film runs hours minutes and was shot in sydney australia with some exterior scenes done in nashville and san francisco grade b']\n"
     ]
    }
   ],
   "source": [
    "import re\n",
    "\n",
    "# Function to clean text\n",
    "def clean_text(text):\n",
    "    # Remove special characters\n",
    "    text = re.sub(r'[^a-zA-Z\\s]', '', text)\n",
    "    # Remove extra spaces\n",
    "    text = re.sub(r'\\s+', ' ', text)\n",
    "    # Convert to lowercase\n",
    "    text = text.lower()\n",
    "    return text\n",
    "\n",
    "# Clean all fetched reviews\n",
    "cleaned_reviews = [clean_text(review) for review in all_reviews]\n",
    "print(f\"Sample Cleaned Reviews:\\n{cleaned_reviews[:5]}\")"
   ]
  },
  {
   "cell_type": "code",
   "execution_count": 5,
   "id": "98f7a0cb",
   "metadata": {},
   "outputs": [
    {
     "name": "stdout",
     "output_type": "stream",
     "text": [
      "TextBlob Sentiment Analysis Results:\n",
      "{'positive': 92, 'neutral': 2, 'negative': 5}\n"
     ]
    }
   ],
   "source": [
    "from textblob import TextBlob\n",
    "\n",
    "# Perform sentiment analysis using TextBlob\n",
    "textblob_sentiments = {\"positive\": 0, \"neutral\": 0, \"negative\": 0}\n",
    "\n",
    "for review in cleaned_reviews:\n",
    "    analysis = TextBlob(review)\n",
    "    if analysis.sentiment.polarity > 0:\n",
    "        textblob_sentiments[\"positive\"] += 1\n",
    "    elif analysis.sentiment.polarity < 0:\n",
    "        textblob_sentiments[\"negative\"] += 1\n",
    "    else:\n",
    "        textblob_sentiments[\"neutral\"] += 1\n",
    "\n",
    "# Output TextBlob sentiment results\n",
    "print(\"TextBlob Sentiment Analysis Results:\")\n",
    "print(textblob_sentiments)"
   ]
  },
  {
   "cell_type": "code",
   "execution_count": null,
   "id": "265aee8c",
   "metadata": {},
   "outputs": [
    {
     "name": "stderr",
     "output_type": "stream",
     "text": [
      "[nltk_data] Downloading package movie_reviews to\n",
      "[nltk_data]     C:\\Users\\jazja\\AppData\\Roaming\\nltk_data...\n",
      "[nltk_data]   Package movie_reviews is already up-to-date!\n",
      "[nltk_data] Downloading package punkt to\n",
      "[nltk_data]     C:\\Users\\jazja\\AppData\\Roaming\\nltk_data...\n",
      "[nltk_data]   Package punkt is already up-to-date!\n"
     ]
    }
   ],
   "source": [
    "from textblob.sentiments import NaiveBayesAnalyzer\n",
    "import nltk\n",
    "\n",
    "# Download necessary NLTK resources\n",
    "nltk.download('movie_reviews')\n",
    "nltk.download('punkt')\n",
    "\n",
    "# Perform sentiment analysis using NaiveBayesAnalyzer\n",
    "naivebayes_sentiments = {\"positive\": 0, \"neutral\": 0, \"negative\": 0}\n",
    "\n",
    "for review in cleaned_reviews:\n",
    "    analysis = TextBlob(review, analyzer=NaiveBayesAnalyzer())\n",
    "    if analysis.sentiment.classification == \"pos\":\n",
    "        naivebayes_sentiments[\"positive\"] += 1\n",
    "    elif analysis.sentiment.classification == \"neg\":\n",
    "        naivebayes_sentiments[\"negative\"] += 1\n",
    "    else:\n",
    "        naivebayes_sentiments[\"neutral\"] += 1\n",
    "\n",
    "# Output NaiveBayesAnalyzer sentiment results\n",
    "print(\"NaiveBayes Sentiment Analysis Results:\")\n",
    "print(naivebayes_sentiments)"
   ]
  },
  {
   "cell_type": "code",
   "execution_count": 10,
   "id": "aa93737d",
   "metadata": {},
   "outputs": [
    {
     "data": {
      "image/png": "[encoded data removed]",
      "text/plain": [
       "<Figure size 576x432 with 1 Axes>"
      ]
     },
     "metadata": {},
     "output_type": "display_data"
    },
    {
     "data": {
      "image/png": "[encoded data removed]",
      "text/plain": [
       "<Figure size 576x432 with 1 Axes>"
      ]
     },
     "metadata": {},
     "output_type": "display_data"
    }
   ],
   "source": [
    "import matplotlib.pyplot as plt\n",
    "\n",
    "# Prepare data for visualization\n",
    "labels = textblob_sentiments.keys()\n",
    "sizes_textblob = textblob_sentiments.values()\n",
    "sizes_naivebayes = naivebayes_sentiments.values()\n",
    "\n",
    "# Donut chart for TextBlob results\n",
    "plt.figure(figsize=(8, 6))\n",
    "plt.pie(\n",
    "    sizes_textblob, labels=labels, autopct='%1.1f%%', startangle=140,\n",
    "    wedgeprops=dict(width=0.3), explode=(0.1, 0.1, 0.1)\n",
    ")\n",
    "plt.title(\"Sentiment Analysis Results (TextBlob)\")\n",
    "plt.show()\n",
    "\n",
    "# Donut chart for NaiveBayes results\n",
    "plt.figure(figsize=(8, 6))\n",
    "plt.pie(\n",
    "    sizes_naivebayes, labels=labels, autopct='%1.1f%%', startangle=140,\n",
    "    wedgeprops=dict(width=0.3), explode=(0.1, 0.1, 0.1)\n",
    ")\n",
    "plt.title(\"Sentiment Analysis Results (NaiveBayesAnalyzer)\")\n",
    "plt.show()"
   ]
  },
  {
   "cell_type": "code",
   "execution_count": 11,
   "id": "8620230b",
   "metadata": {},
   "outputs": [
    {
     "name": "stdout",
     "output_type": "stream",
     "text": [
      "TextBlob Sentiment Data: {'positive': 92, 'neutral': 2, 'negative': 5}\n",
      "NaiveBayes Sentiment Data: {'positive': 88, 'neutral': 0, 'negative': 11}\n"
     ]
    }
   ],
   "source": [
    "print(\"TextBlob Sentiment Data:\", textblob_sentiments)\n",
    "print(\"NaiveBayes Sentiment Data:\", naivebayes_sentiments)"
   ]
  },
  {
   "cell_type": "code",
   "execution_count": 12,
   "id": "89234c0b",
   "metadata": {},
   "outputs": [
    {
     "name": "stdout",
     "output_type": "stream",
     "text": [
      "Sample Filtered Reviews:\n",
      "['martix great example movie live ever log time story concept world keanu reeves plays role utter brilliance cast well put together graphics still day amazing one best movies time', 'get know reality fact virtual reality reality ravaged dystopia run technocrat artificial intelligence humankind vegetates billions gloopfilled tanks mere battery packs machineworld fed late vr known matrix us ugly great cable stuck back heads group quasispiritual rebels infiltrating matrix sole purpose crashing ruddy great mainframe rescuing humans unknown purgatory hey keanu reeves messiah sounds like web freaks wet dream fact dazzlingly nifty slice scifi cool wachowski brothers andy larry last seen dabbling kinky lesbian noir excellent bound pulling something like million masterstrokes taking imprimatur video game meld grungy noir blade runner hyperkinetic energies chopsocky john woo hardware grandiose spiritual overtones william gibsons cyberpunk ethos produce new aesthetic millennium powered thudding beat techno incredible fun key technique flomo process born japanese animation whereby object motion seemingly frozen camera miraculously spins around time gravity hold grants action including killer kung fu reeves crew spent months perfecting liberty take surreal visual highs superhuman feats permissible course context vr rebels download herculean talents fuel subterfuge meanwhile audience gawp longingly jaws thunking cinema floor unison heroes wrapped skintight leather sleek shades designer cheekbones spin walls leap high rises slip streams bullets silken slomo tron aint immediately reigniting moribund cyberpunk genre kids cant get enough stateside thrust reeves imploding career back speed highs laying rest hideous ghost johnny mnemonic stolen much star wars thunder thought humanly possible loony plot matrix fabulous sure expert fishburne depended upon expound lions share script seerlike rebel leader morpheus reeves stunning newcast slenderness thomas neo anderson hacker turned hope mankind care illdefined mystical calling asked little perpetual befuddlement like speed though movie plays iconic looks rather oaklike emoting theres major find irresistible carrieanne moss majestically wrought combination steely noshit intelligence rockchick vivaciousness fellow tripper trinity weaving cast type neutralises aussie tones freaky deadpan head mibstyled defence system set goth invaders sure three minutes postmovie deliberation stateoftheart cyberdevilry reduced purest gobbledygook though point matrix pure experience many moon since empire crew spilled cinema literally buzzing sensation movie babbling frenetically sheer excitement discovery head tail deliciously inventive wachowskis watch skyrocket delivered syntax new kind movie technically mindblowing style merged perfectly content damn cool usher drag kicking screaming back reality bet bottom dollar george never saw phantom menace coming verdict deliciously inventive wachowskis delivered syntax new kind movie technically mindblowing style merged perfectly content damn cool ian nathan empire magazine', 'around first watched film recently giving another go ever since doesnt change fact movie timeless piece filmaking characters striking thoughtprovoking story basically everything make action film book', 'finally got see big screen thanks tiff bell lightbox glorious mm reaction whoa top able participate round table discussion films technical innovations thematic philosophies religious metaphors undertones gender politics absolute asskicking action movie perfect', 'brainy entertaining iconic cool big city computer hacker keanu reeves feels something intrinsically wrong reality woman superhuman abilities carrieanne moss informs mysterious man named morpheus answers laurence fishburne escape agents pursuing eg hugo weaving get morpheus point world turned upside inside marcus chong joe pantoliano also hand matrix cerebral scifiaction film mixes elements first two terminator flicks martial arts action basic concept hails back star trek motion picture doubt put intricate movie together make entertaining took genius give credit waschowski brothers um mean sisters rolling eyes casting great carrieanne stunning throughout usually dont like short hair women shes exception though waschowskis made comic booky posturing characters slick black outfits sunglasses scream yeah right messiah angle old hat film runs hours minutes shot sydney australia exterior scenes done nashville san francisco grade b']\n"
     ]
    },
    {
     "name": "stderr",
     "output_type": "stream",
     "text": [
      "[nltk_data] Downloading package stopwords to\n",
      "[nltk_data]     C:\\Users\\jazja\\AppData\\Roaming\\nltk_data...\n",
      "[nltk_data]   Package stopwords is already up-to-date!\n"
     ]
    }
   ],
   "source": [
    "from nltk.corpus import stopwords\n",
    "import nltk\n",
    "\n",
    "# Download stop words if not already available\n",
    "nltk.download('stopwords')\n",
    "\n",
    "# Get the English stop words list\n",
    "stop_words = set(stopwords.words('english'))\n",
    "\n",
    "# Remove stop words from cleaned reviews\n",
    "filtered_reviews = [\n",
    "    ' '.join([word for word in review.split() if word not in stop_words])\n",
    "    for review in cleaned_reviews\n",
    "]\n",
    "\n",
    "# Check a sample of the filtered reviews\n",
    "print(f\"Sample Filtered Reviews:\\n{filtered_reviews[:5]}\")"
   ]
  },
  {
   "cell_type": "code",
   "execution_count": 14,
   "id": "3e849819",
   "metadata": {},
   "outputs": [
    {
     "ename": "ValueError",
     "evalue": "Only supported for TrueType fonts",
     "output_type": "error",
     "traceback": [
      "\u001b[1;31m---------------------------------------------------------------------------\u001b[0m",
      "\u001b[1;31mValueError\u001b[0m                                Traceback (most recent call last)",
      "\u001b[1;32m~\\AppData\\Local\\Temp/ipykernel_12600/4248591236.py\u001b[0m in \u001b[0;36m<module>\u001b[1;34m\u001b[0m\n\u001b[0;32m      6\u001b[0m \u001b[1;33m\u001b[0m\u001b[0m\n\u001b[0;32m      7\u001b[0m \u001b[1;31m# Generate the WordCloud\u001b[0m\u001b[1;33m\u001b[0m\u001b[1;33m\u001b[0m\u001b[0m\n\u001b[1;32m----> 8\u001b[1;33m wordcloud = WordCloud(\n\u001b[0m\u001b[0;32m      9\u001b[0m     \u001b[0mwidth\u001b[0m\u001b[1;33m=\u001b[0m\u001b[1;36m800\u001b[0m\u001b[1;33m,\u001b[0m\u001b[1;33m\u001b[0m\u001b[1;33m\u001b[0m\u001b[0m\n\u001b[0;32m     10\u001b[0m     \u001b[0mheight\u001b[0m\u001b[1;33m=\u001b[0m\u001b[1;36m400\u001b[0m\u001b[1;33m,\u001b[0m\u001b[1;33m\u001b[0m\u001b[1;33m\u001b[0m\u001b[0m\n",
      "\u001b[1;32m~\\anaconda3\\lib\\site-packages\\wordcloud\\wordcloud.py\u001b[0m in \u001b[0;36mgenerate\u001b[1;34m(self, text)\u001b[0m\n\u001b[0;32m    640\u001b[0m         \u001b[0mself\u001b[0m\u001b[1;33m\u001b[0m\u001b[1;33m\u001b[0m\u001b[0m\n\u001b[0;32m    641\u001b[0m         \"\"\"\n\u001b[1;32m--> 642\u001b[1;33m         \u001b[1;32mreturn\u001b[0m \u001b[0mself\u001b[0m\u001b[1;33m.\u001b[0m\u001b[0mgenerate_from_text\u001b[0m\u001b[1;33m(\u001b[0m\u001b[0mtext\u001b[0m\u001b[1;33m)\u001b[0m\u001b[1;33m\u001b[0m\u001b[1;33m\u001b[0m\u001b[0m\n\u001b[0m\u001b[0;32m    643\u001b[0m \u001b[1;33m\u001b[0m\u001b[0m\n\u001b[0;32m    644\u001b[0m     \u001b[1;32mdef\u001b[0m \u001b[0m_check_generated\u001b[0m\u001b[1;33m(\u001b[0m\u001b[0mself\u001b[0m\u001b[1;33m)\u001b[0m\u001b[1;33m:\u001b[0m\u001b[1;33m\u001b[0m\u001b[1;33m\u001b[0m\u001b[0m\n",
      "\u001b[1;32m~\\anaconda3\\lib\\site-packages\\wordcloud\\wordcloud.py\u001b[0m in \u001b[0;36mgenerate_from_text\u001b[1;34m(self, text)\u001b[0m\n\u001b[0;32m    622\u001b[0m         \"\"\"\n\u001b[0;32m    623\u001b[0m         \u001b[0mwords\u001b[0m \u001b[1;33m=\u001b[0m \u001b[0mself\u001b[0m\u001b[1;33m.\u001b[0m\u001b[0mprocess_text\u001b[0m\u001b[1;33m(\u001b[0m\u001b[0mtext\u001b[0m\u001b[1;33m)\u001b[0m\u001b[1;33m\u001b[0m\u001b[1;33m\u001b[0m\u001b[0m\n\u001b[1;32m--> 624\u001b[1;33m         \u001b[0mself\u001b[0m\u001b[1;33m.\u001b[0m\u001b[0mgenerate_from_frequencies\u001b[0m\u001b[1;33m(\u001b[0m\u001b[0mwords\u001b[0m\u001b[1;33m)\u001b[0m\u001b[1;33m\u001b[0m\u001b[1;33m\u001b[0m\u001b[0m\n\u001b[0m\u001b[0;32m    625\u001b[0m         \u001b[1;32mreturn\u001b[0m \u001b[0mself\u001b[0m\u001b[1;33m\u001b[0m\u001b[1;33m\u001b[0m\u001b[0m\n\u001b[0;32m    626\u001b[0m \u001b[1;33m\u001b[0m\u001b[0m\n",
      "\u001b[1;32m~\\anaconda3\\lib\\site-packages\\wordcloud\\wordcloud.py\u001b[0m in \u001b[0;36mgenerate_from_frequencies\u001b[1;34m(self, frequencies, max_font_size)\u001b[0m\n\u001b[0;32m    451\u001b[0m                 \u001b[0mfont_size\u001b[0m \u001b[1;33m=\u001b[0m \u001b[0mself\u001b[0m\u001b[1;33m.\u001b[0m\u001b[0mheight\u001b[0m\u001b[1;33m\u001b[0m\u001b[1;33m\u001b[0m\u001b[0m\n\u001b[0;32m    452\u001b[0m             \u001b[1;32melse\u001b[0m\u001b[1;33m:\u001b[0m\u001b[1;33m\u001b[0m\u001b[1;33m\u001b[0m\u001b[0m\n\u001b[1;32m--> 453\u001b[1;33m                 self.generate_from_frequencies(dict(frequencies[:2]),\n\u001b[0m\u001b[0;32m    454\u001b[0m                                                max_font_size=self.height)\n\u001b[0;32m    455\u001b[0m                 \u001b[1;31m# find font sizes\u001b[0m\u001b[1;33m\u001b[0m\u001b[1;33m\u001b[0m\u001b[0m\n",
      "\u001b[1;32m~\\anaconda3\\lib\\site-packages\\wordcloud\\wordcloud.py\u001b[0m in \u001b[0;36mgenerate_from_frequencies\u001b[1;34m(self, frequencies, max_font_size)\u001b[0m\n\u001b[0;32m    509\u001b[0m                     font, orientation=orientation)\n\u001b[0;32m    510\u001b[0m                 \u001b[1;31m# get size of resulting text\u001b[0m\u001b[1;33m\u001b[0m\u001b[1;33m\u001b[0m\u001b[0m\n\u001b[1;32m--> 511\u001b[1;33m                 \u001b[0mbox_size\u001b[0m \u001b[1;33m=\u001b[0m \u001b[0mdraw\u001b[0m\u001b[1;33m.\u001b[0m\u001b[0mtextbbox\u001b[0m\u001b[1;33m(\u001b[0m\u001b[1;33m(\u001b[0m\u001b[1;36m0\u001b[0m\u001b[1;33m,\u001b[0m \u001b[1;36m0\u001b[0m\u001b[1;33m)\u001b[0m\u001b[1;33m,\u001b[0m \u001b[0mword\u001b[0m\u001b[1;33m,\u001b[0m \u001b[0mfont\u001b[0m\u001b[1;33m=\u001b[0m\u001b[0mtransposed_font\u001b[0m\u001b[1;33m,\u001b[0m \u001b[0manchor\u001b[0m\u001b[1;33m=\u001b[0m\u001b[1;34m\"lt\"\u001b[0m\u001b[1;33m)\u001b[0m\u001b[1;33m\u001b[0m\u001b[1;33m\u001b[0m\u001b[0m\n\u001b[0m\u001b[0;32m    512\u001b[0m                 \u001b[1;31m# find possible places using integral image:\u001b[0m\u001b[1;33m\u001b[0m\u001b[1;33m\u001b[0m\u001b[0m\n\u001b[0;32m    513\u001b[0m                 result = occupancy.sample_position(box_size[3] + self.margin,\n",
      "\u001b[1;32m~\\anaconda3\\lib\\site-packages\\PIL\\ImageDraw.py\u001b[0m in \u001b[0;36mtextbbox\u001b[1;34m(self, xy, text, font, anchor, spacing, align, direction, features, language, stroke_width, embedded_color)\u001b[0m\n\u001b[0;32m    649\u001b[0m             \u001b[0mfont\u001b[0m \u001b[1;33m=\u001b[0m \u001b[0mself\u001b[0m\u001b[1;33m.\u001b[0m\u001b[0mgetfont\u001b[0m\u001b[1;33m(\u001b[0m\u001b[1;33m)\u001b[0m\u001b[1;33m\u001b[0m\u001b[1;33m\u001b[0m\u001b[0m\n\u001b[0;32m    650\u001b[0m         \u001b[1;32mif\u001b[0m \u001b[1;32mnot\u001b[0m \u001b[0misinstance\u001b[0m\u001b[1;33m(\u001b[0m\u001b[0mfont\u001b[0m\u001b[1;33m,\u001b[0m \u001b[0mImageFont\u001b[0m\u001b[1;33m.\u001b[0m\u001b[0mFreeTypeFont\u001b[0m\u001b[1;33m)\u001b[0m\u001b[1;33m:\u001b[0m\u001b[1;33m\u001b[0m\u001b[1;33m\u001b[0m\u001b[0m\n\u001b[1;32m--> 651\u001b[1;33m             \u001b[1;32mraise\u001b[0m \u001b[0mValueError\u001b[0m\u001b[1;33m(\u001b[0m\u001b[1;34m\"Only supported for TrueType fonts\"\u001b[0m\u001b[1;33m)\u001b[0m\u001b[1;33m\u001b[0m\u001b[1;33m\u001b[0m\u001b[0m\n\u001b[0m\u001b[0;32m    652\u001b[0m         \u001b[0mmode\u001b[0m \u001b[1;33m=\u001b[0m \u001b[1;34m\"RGBA\"\u001b[0m \u001b[1;32mif\u001b[0m \u001b[0membedded_color\u001b[0m \u001b[1;32melse\u001b[0m \u001b[0mself\u001b[0m\u001b[1;33m.\u001b[0m\u001b[0mfontmode\u001b[0m\u001b[1;33m\u001b[0m\u001b[1;33m\u001b[0m\u001b[0m\n\u001b[0;32m    653\u001b[0m         bbox = font.getbbox(\n",
      "\u001b[1;31mValueError\u001b[0m: Only supported for TrueType fonts"
     ]
    }
   ],
   "source": [
    "from wordcloud import WordCloud\n",
    "import matplotlib.pyplot as plt\n",
    "\n",
    "# Provide the path to a TrueType font\n",
    "font_path = \"C:/Windows/Fonts/arial.ttf\"  # Cant get this part to work on my Laptop\n",
    "\n",
    "# Generate the WordCloud\n",
    "wordcloud = WordCloud(\n",
    "    width=800,\n",
    "    height=400,\n",
    "    max_words=20,\n",
    "    background_color='white',\n",
    "    font_path=font_path\n",
    ").generate(all_filtered_text)\n",
    "\n",
    "# Display the WordCloud\n",
    "plt.figure(figsize=(10, 5))\n",
    "plt.imshow(wordcloud, interpolation='bilinear')\n",
    "plt.axis('off')\n",
    "plt.title(\"Top 20 Words in Reviews\")\n",
    "plt.show()"
   ]
  },
  {
   "cell_type": "markdown",
   "id": "f3d1be40",
   "metadata": {},
   "source": [
    "## Conclusion  \n",
    "\n",
    "The sentiment analysis revealed the following:  \n",
    "- TextBlob results showed that the majority of reviews were **positive**.  \n",
    "- NaiveBayesAnalyzer results indicated a similar trend, though slightly more neutral/negative results were observed.\n"
   ]
  },
  {
   "cell_type": "code",
   "execution_count": null,
   "id": "d88d0b91",
   "metadata": {},
   "outputs": [],
   "source": []
  }
 ],
 "metadata": {
  "kernelspec": {
   "display_name": "Python 3 (ipykernel)",
   "language": "python",
   "name": "python3"
  },
  "language_info": {
   "codemirror_mode": {
    "name": "ipython",
    "version": 3
   },
   "file_extension": ".py",
   "mimetype": "text/x-python",
   "name": "python",
   "nbconvert_exporter": "python",
   "pygments_lexer": "ipython3",
   "version": "3.9.7"
  }
 },
 "nbformat": 4,
 "nbformat_minor": 5
}
